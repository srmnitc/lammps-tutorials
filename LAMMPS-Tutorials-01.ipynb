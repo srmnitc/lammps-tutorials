{
 "cells": [
  {
   "cell_type": "markdown",
   "metadata": {},
   "source": [
    "# LAMMPS Tutorials 01. Running your first LAMMPS simulation!\n",
    "\n",
    "### Author: Mark Tschopp, mark.a.tschopp.civ at mail.mil\n",
    "\n",
    "Please contact me if you have a problem with this tutorial, so I can modify in Github.  I have added FAQs, and will update my versions of LAMMPS in the future to keep the scripts current.\n",
    "\n",
    "The latest version of this [Jupyter Notebook](http://ipython.org/notebook.html) tutorial is available at https://github.com/mrkllntschpp/lammps-tutorials.\n",
    "\n",
    "The original tutorials are given here: https://icme.hpc.msstate.edu/mediawiki/index.php/LAMMPS_tutorials.  A number of these tutorials are out of date and have been ported over into the current iPython Jupyter Notebook tutorials on github.\n",
    "\n",
    "***"
   ]
  },
  {
   "cell_type": "markdown",
   "metadata": {},
   "source": [
    "## Description:\n",
    "<a id=\"Sec1\"></a>\n",
    "This is a quick tutorial to running a LAMMPS simulation on a Windows machine. For this simple example, the molecular simulation calculates the equilibrium lattice constant and corresponding cohesive energy for aluminum in the face-centered cubic (fcc) lattice structure (see below).\n",
    "\n",
    "<img src=\"https://icme.hpc.msstate.edu/mediawiki/images/e/ef/Fcc_stereo.gif\" alt=\"Face-centered Cubic Lattice Structure\" title=\"FCC Lattice Structure\" />"
   ]
  },
  {
   "cell_type": "markdown",
   "metadata": {},
   "source": [
    "***\n",
    "## Step 1: Download an Input File\n",
    "<a id=\"Step1\"></a>\n",
    "\n",
    "We will use `pylammpsmpi` to run lammps calculations. `pylammpsmpi` will allow you run calculations directly from a jupyter notebook, and even submit the job on computing clusters. We start by importing and creating an object."
   ]
  },
  {
   "cell_type": "code",
   "execution_count": 1,
   "metadata": {},
   "outputs": [],
   "source": [
    "from pylammpsmpi import LammpsLibrary"
   ]
  },
  {
   "cell_type": "code",
   "execution_count": 12,
   "metadata": {},
   "outputs": [],
   "source": [
    "lmp = LammpsLibrary(cores=1)"
   ]
  },
  {
   "cell_type": "markdown",
   "metadata": {},
   "source": [
    "In `pylammpsmpi`, the commands are the same as in a conventional lammps script. The main commands such as `units`, `dimension` etc. below can be accessed as the member functions of `LammpsLibrary` object."
   ]
  },
  {
   "cell_type": "code",
   "execution_count": 13,
   "metadata": {},
   "outputs": [],
   "source": [
    "lmp.units(\"metal\") \n",
    "lmp.dimension(3) \n",
    "lmp.boundary(\"p p p\") \n",
    "lmp.atom_style(\"atomic\") "
   ]
  },
  {
   "cell_type": "markdown",
   "metadata": {},
   "source": [
    "This section initializes the simulations. The `units` command specifies the units that will be used for the remainder of the simulation; `metal` uses Angstroms and eV, among other units. The `dimension 3` command specifies a 3-dimensional simulation cell will be used (2-D is also an option). The `boundary p p p` specifies periodic boundaries in the x-, y-, and z-directions. "
   ]
  },
  {
   "cell_type": "code",
   "execution_count": 14,
   "metadata": {},
   "outputs": [],
   "source": [
    "lmp.lattice(\"fcc\", 4, \"orient x\", 1, 1, 0, \"orient y\", -1, 1, 0, \"orient z\", 0, 0, 1)  \n",
    "lmp.region(\"box block\", 0, 1, 0, 1, 0, 1, \"units lattice\")\n",
    "lmp.create_box(1, \"box\")\n",
    "lmp.create_atoms(1, \"box\")\n",
    "lmp.replicate(1, 1, 1)"
   ]
  },
  {
   "cell_type": "markdown",
   "metadata": {},
   "source": [
    "The `lattice` command specifies what type of lattice is used (fcc, bcc, hcp, etc.) and the number following this specifies the lattice constant. The `region` command specifies the simulation cell. Here, we have used lattice units and specified that the simulation cell box is to be 1 lattice unit in each direction. The `create_box` command following this will use the parameters outlined in the `region` command to actually create the box. The `replicate` command can be used to replicate the periodic cell in each direction. "
   ]
  },
  {
   "cell_type": "code",
   "execution_count": 15,
   "metadata": {},
   "outputs": [],
   "source": [
    "lmp.pair_style(\"eam/alloy\") \n",
    "lmp.pair_coeff(\" * * Al99.eam.alloy Al\")\n",
    "lmp.neighbor(2.0, \"bin\") \n",
    "lmp.neigh_modify(\"delay 10 check yes\") "
   ]
  },
  {
   "cell_type": "markdown",
   "metadata": {},
   "source": [
    "The `pair_style` command specifies what kind of interatomic potential will be used, while the `pair_coeff` specifies the file that the pair potential coefficients are stored in. The file extension for the interatomic potential file can sometimes give a clue as to which format is being used (eam.alloy = eam/alloy)."
   ]
  },
  {
   "cell_type": "code",
   "execution_count": 16,
   "metadata": {},
   "outputs": [],
   "source": [
    "lmp.compute(\"eng all pe/atom\") \n",
    "lmp.compute(\"eatoms all reduce sum c_eng\") "
   ]
  },
  {
   "cell_type": "markdown",
   "metadata": {},
   "source": [
    "Here, two computes are defined. In the first `compute` command, a variable named `eng` is defined to store the potential energy for each atom. In the second `compute` command, a variable named `eatoms` is defined to store the sum of all `eng` values. This is just to show how to use computes with user-defined variables.  Notice that the `pe` energy column during minimization is equivalent to the `c_eatoms` column, as expected."
   ]
  },
  {
   "cell_type": "code",
   "execution_count": 17,
   "metadata": {},
   "outputs": [],
   "source": [
    "lmp.reset_timestep(0) \n",
    "lmp.fix(1, \"all box/relax iso\", 0.0, \"vmax\", 0.001)\n",
    "lmp.thermo(10) \n",
    "lmp.thermo_style(\"custom step pe lx ly lz press c_eatoms\") \n",
    "lmp.min_style(\"cg\") \n",
    "lmp.minimize(1e-5, 1e-5, 5000, 10000) "
   ]
  },
  {
   "cell_type": "markdown",
   "metadata": {},
   "source": [
    "The `reset_timestep` does just that. The `fix` command uses the `box/relax` setting, whereby all directions (`iso`) are relaxed to 0.0 Pa pressure for all atoms (`all`). The `thermo` specifies the output during minimization. The `thermo_style` specifies what type of output is shown to screen. Here I have used a `custom` list of metrics, including the time`step`, the potential energy (`pe`), the length of the box in x, y, and z (`lx`, `ly`, `lz`, respectively), the `press`ure, and the computed variable `eatoms`. The `min_style` specifies that conjugate gradient will be used for minimization and the `minimize` starts the minimization, *i.e.*, the simulation cell boundaries are relaxed from the specified lattice constant (4 Angstroms) to the actual lattice constant (4.05 Angstroms). "
   ]
  },
  {
   "cell_type": "markdown",
   "metadata": {},
   "source": [
    "Now we can access some variables to understand the thermodynamic state of the system. First, get the number of atoms in the system-"
   ]
  },
  {
   "cell_type": "code",
   "execution_count": 18,
   "metadata": {},
   "outputs": [
    {
     "data": {
      "text/plain": [
       "8"
      ]
     },
     "execution_count": 18,
     "metadata": {},
     "output_type": "execute_result"
    }
   ],
   "source": [
    "lmp.natoms"
   ]
  },
  {
   "cell_type": "markdown",
   "metadata": {},
   "source": [
    "We can access the potential energy through the compute we used above, or using the system variable `pe`."
   ]
  },
  {
   "cell_type": "code",
   "execution_count": 20,
   "metadata": {},
   "outputs": [
    {
     "data": {
      "text/plain": [
       "(-26.879999905465446, array(-26.87999991))"
      ]
     },
     "execution_count": 20,
     "metadata": {},
     "output_type": "execute_result"
    }
   ],
   "source": [
    "lmp.extract_compute(\"eatoms\", 0, 0), lmp.pe"
   ]
  },
  {
   "cell_type": "markdown",
   "metadata": {},
   "source": [
    "The cohesive energy can then easily be calculated by,"
   ]
  },
  {
   "cell_type": "code",
   "execution_count": 22,
   "metadata": {},
   "outputs": [
    {
     "data": {
      "text/plain": [
       "-3.359999988183184"
      ]
     },
     "execution_count": 22,
     "metadata": {},
     "output_type": "execute_result"
    }
   ],
   "source": [
    "lmp.pe/lmp.natoms"
   ]
  },
  {
   "cell_type": "markdown",
   "metadata": {},
   "source": [
    "More information about the calculation is also available in `log.lammps`, this can be examined by,"
   ]
  },
  {
   "cell_type": "code",
   "execution_count": 23,
   "metadata": {},
   "outputs": [
    {
     "name": "stdout",
     "output_type": "stream",
     "text": [
      "LAMMPS (3 Mar 2020)\n",
      "OMP_NUM_THREADS environment is not set. Defaulting to 1 thread. (src/comm.cpp:94)\n",
      "  using 1 OpenMP thread(s) per MPI task\n",
      "units metal\n",
      "dimension 3\n",
      "boundary p p p\n",
      "atom_style atomic\n",
      "lattice fcc 4 orient x 1 1 0 orient y -1 1 0 orient z 0 0 1\n",
      "Lattice spacing in x,y,z = 5.65685 5.65685 4\n",
      "region box block 0 1 0 1 0 1 units lattice\n",
      "create_box 1 box\n",
      "Created orthogonal box = (0 0 0) to (5.65685 5.65685 4)\n",
      "  1 by 1 by 1 MPI processor grid\n",
      "create_atoms 1 box\n",
      "Created 8 atoms\n",
      "  create_atoms CPU = 0.000788623 secs\n",
      "replicate 1 1 1\n",
      "  orthogonal box = (0 0 0) to (5.65685 5.65685 4)\n",
      "  1 by 1 by 1 MPI processor grid\n",
      "  8 atoms\n",
      "  replicate CPU = 0.000645911 secs\n",
      "pair_style eam/alloy\n",
      "pair_coeff  * * Al99.eam.alloy Al\n",
      "neighbor 2.0 bin\n",
      "neigh_modify delay 10 check yes\n",
      "compute eng all pe/atom\n",
      "compute eatoms all reduce sum c_eng\n",
      "reset_timestep 0\n",
      "fix 1 all box/relax iso 0.0 vmax 0.001\n",
      "thermo 10\n",
      "thermo_style custom step pe lx ly lz press c_eatoms\n",
      "min_style cg\n",
      "minimize 1e-05 1e-05 5000 10000\n",
      "WARNING: Using 'neigh_modify every 1 delay 0 check yes' setting during minimization (src/min.cpp:190)\n",
      "Neighbor list info ...\n",
      "  update every 1 steps, delay 0 steps, check yes\n",
      "  max neighbors/atom: 2000, page size: 100000\n",
      "  master list distance cutoff = 8.28721\n",
      "  ghost atom cutoff = 8.28721\n",
      "  binsize = 4.1436, bins = 2 2 1\n",
      "  1 neighbor lists, perpetual/occasional/extra = 1 0 0\n",
      "  (1) pair eam/alloy, perpetual\n",
      "      attributes: half, newton on\n",
      "      pair build: half/bin/atomonly/newton\n",
      "      stencil: half/bin/3d/newton\n",
      "      bin: standard\n",
      "Per MPI rank memory allocation (min/avg/max) = 4.47 | 4.47 | 4.47 Mbytes\n",
      "Step PotEng Lx Ly Lz Press c_eatoms \n",
      "       0   -26.835575    5.6568542    5.6568542            4     29590.11   -26.835575 \n",
      "      10   -26.878207    5.7134228    5.7134228         4.04    5853.9553   -26.878207 \n",
      "      13       -26.88    5.7275708    5.7275708    4.0500041   0.30392357       -26.88 \n",
      "Loop time of 0.000844061 on 1 procs for 13 steps with 8 atoms\n",
      "\n",
      "78.4% CPU use with 1 MPI tasks x 1 OpenMP threads\n",
      "\n",
      "Minimization stats:\n",
      "  Stopping criterion = energy tolerance\n",
      "  Energy initial, next-to-last, final = \n",
      "        -26.8355745933     -26.8799277604     -26.8799999055\n",
      "  Force two-norm initial, final = 7.09198 7.46752e-05\n",
      "  Force max component initial, final = 7.09198 7.46752e-05\n",
      "  Final line search alpha, max atom move = 0.00347448 2.59458e-07\n",
      "  Iterations, force evaluations = 13 14\n",
      "\n",
      "MPI task timing breakdown:\n",
      "Section |  min time  |  avg time  |  max time  |%varavg| %total\n",
      "---------------------------------------------------------------\n",
      "Pair    | 0.00050912 | 0.00050912 | 0.00050912 |   0.0 | 60.32\n",
      "Neigh   | 0          | 0          | 0          |   0.0 |  0.00\n",
      "Comm    | 7.1004e-05 | 7.1004e-05 | 7.1004e-05 |   0.0 |  8.41\n",
      "Output  | 1.4222e-05 | 1.4222e-05 | 1.4222e-05 |   0.0 |  1.68\n",
      "Modify  | 0          | 0          | 0          |   0.0 |  0.00\n",
      "Other   |            | 0.0002497  |            |       | 29.59\n",
      "\n",
      "Nlocal:    8 ave 8 max 8 min\n",
      "Histogram: 1 0 0 0 0 0 0 0 0 0\n",
      "Nghost:    606 ave 606 max 606 min\n",
      "Histogram: 1 0 0 0 0 0 0 0 0 0\n",
      "Neighs:    560 ave 560 max 560 min\n",
      "Histogram: 1 0 0 0 0 0 0 0 0 0\n",
      "\n",
      "Total # of neighbors = 560\n",
      "Ave neighs/atom = 70\n",
      "Neighbor list builds = 0\n",
      "Dangerous builds = 0\n"
     ]
    }
   ],
   "source": [
    "!cat log.lammps"
   ]
  },
  {
   "cell_type": "markdown",
   "metadata": {},
   "source": [
    "***\n",
    "## FAQs \n",
    "\n",
    "<br>\n",
    "<div class=\"alert alert-danger\">\n",
    "<strong>Question 1</strong>: But I wanted a simulation cell with <110> directions.  How would I change this?\n",
    "</div>\n",
    "\n",
    "Aha!  Yes, it is relatively easy to start changing the directions in the x, y, and z directions.  For instance, if you change this line: <br>\n",
    "`lattice fcc 4 orient x 1 0 0 orient y 0 1 0 orient z 0 0 1`\n",
    "\n",
    "to this one: <br>\n",
    "`lattice fcc 4 orient x 1 1 0 orient y -1 1 0 orient z 0 0 1`\n",
    "\n",
    "then you get a simulation cell that is oriented in the $<110>$ directions in the x- and y- directions.  If you mess up on the math, i.e., try 110 and 110 for the x and y directions (without the '-1'), then LAMMPS will return: <br>\n",
    "`ERROR: Lattice orient vectors are not orthogonal`\n",
    "\n",
    "So, if you try the $<110>$-oriented single crystal cell, LAMMPS automatically scales the x- and y-direction periodic lengths to 5.6568542 Angstroms (i.e., $4\\sqrt{2}$).  After minimization, the cohesive energy per atom is `-3.35999998818379` ev, th\n",
    "    \n",
    "<br>\n",
    "<div class=\"alert alert-danger\">\n",
    "<strong>Question 2</strong>: I typed in the above line and nothing happened.\n",
    "</div>\n",
    "\n",
    "Make sure that you are in the same directory as the LAMMPS executable. Make sure that you are typing in the correct filename. \n",
    "\n",
    "<br>\n",
    "<div class=\"alert alert-danger\">\n",
    "<strong>Question 3</strong>: I keep getting an error with the potential, i.e., potential file not found.\n",
    "</div>\n",
    "\n",
    "First, check that the potential file is in the directory that you are running out of. Although, you can insert paths, if you want to store the potentials in another directory. Second, make sure that the potential file name is the same as that given in the input script. For instance, Windows has the habit of saving text files (like the potential files) with .txt extensions. If you happen to be running from a Windows operating system, I would change the settings so that you can see the extensions of the files as well. "
   ]
  },
  {
   "cell_type": "markdown",
   "metadata": {},
   "source": [
    "***\n",
    "## Tutorial Links\n",
    "\n",
    "[Click here to open the next tutorial](LAMMPS-Tutorials-02.ipynb)"
   ]
  }
 ],
 "metadata": {
  "kernelspec": {
   "display_name": "Python 3",
   "language": "python",
   "name": "python3"
  },
  "language_info": {
   "codemirror_mode": {
    "name": "ipython",
    "version": 3
   },
   "file_extension": ".py",
   "mimetype": "text/x-python",
   "name": "python",
   "nbconvert_exporter": "python",
   "pygments_lexer": "ipython3",
   "version": "3.7.6"
  }
 },
 "nbformat": 4,
 "nbformat_minor": 4
}
